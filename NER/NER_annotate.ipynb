{
 "cells": [
  {
   "cell_type": "code",
   "execution_count": null,
   "metadata": {},
   "outputs": [],
   "source": [
    "'''\n",
    "Citation:\n",
    "\n",
    "[1] “Pandas,” pandas. [Online]. Available: https://pandas.pydata.org/.\n",
    "[2] \"NumPy.\" [Online]. Available: https://numpy.org/.\n",
    "'''"
   ]
  },
  {
   "cell_type": "code",
   "execution_count": null,
   "metadata": {},
   "outputs": [],
   "source": [
    "import pandas as pd\n",
    "import numpy as np"
   ]
  },
  {
   "cell_type": "code",
   "execution_count": null,
   "metadata": {},
   "outputs": [],
   "source": [
    "O_R_df = pd.read_csv('../Webscrapping/webdata/Opiate-Recovery.csv')\n",
    "R_df = pd.read_csv('../Webscrapping/webdata/reddit_effects.csv')\n",
    "T_df = pd.read_csv('../Webscrapping/webdata/twitter_effects.csv')\n",
    "Comb_R_T_df =  pd.concat([R_df,T_df])\n",
    "Comb_R_T_df = Comb_R_T_df.reset_index(drop=True)"
   ]
  },
  {
   "cell_type": "code",
   "execution_count": null,
   "metadata": {},
   "outputs": [],
   "source": [
    "SEnts = []\n",
    "EEnts = []\n",
    "# Finding out the Substance and effects from the pretrained NER model\n",
    "import spacy\n",
    "import pandas as pd\n",
    "nlp = spacy.load(\"en_reddit_ner\\en_reddit_ner\")\n",
    "for i in range(len(O_R_df['Comments'])):\n",
    "    doc = nlp(O_R_df['Comments'][i])\n",
    "    SEnts.append([ent.text for ent in doc.ents if ent.label_=='SUBSTANCE'])\n",
    "    EEnts.append([ent.text for ent in doc.ents if ent.label_=='EFFECT'])\n",
    "\n",
    "O_R_df.insert(3,'PSE',EEnts,True)\n",
    "O_R_df.insert(2,'Components',SEnts,True)\n",
    "O_R_df['PSE'] = O_R_df['PSE'].apply(lambda y: np.nan if len(y)==0 else \", \".join(y))\n",
    "O_R_df['Components'] = O_R_df['Components'].apply(lambda y: np.nan if len(y)==0 else \", \".join(y))\n",
    "O_R_df = O_R_df[O_R_df['Components'].notna()]\n",
    "O_R_df.sort_values(by=[\"Components\"],inplace = True)\n",
    "O_R_df = O_R_df.reset_index(drop=True)"
   ]
  },
  {
   "cell_type": "code",
   "execution_count": null,
   "metadata": {},
   "outputs": [],
   "source": [
    "EEnts = []\n",
    "for i in range(len(Comb_R_T_df['Comments'])):\n",
    "    doc = nlp(Comb_R_T_df['Comments'][i])\n",
    "    EEnts.append([ent.text for ent in doc.ents if ent.label_=='EFFECT'])\n",
    "\n",
    "Comb_R_T_df.insert(3,'PSE',EEnts,True)\n",
    "Comb_R_T_df['PSE'] = Comb_R_T_df['PSE'].apply(lambda y: np.nan if len(y)==0 else \", \".join(y))\n",
    "Comb_R_T_df.sort_values(by=[\"Components\"],inplace = True)\n",
    "Comb_R_T_df = Comb_R_T_df.reset_index(drop=True)"
   ]
  },
  {
   "cell_type": "code",
   "execution_count": null,
   "metadata": {},
   "outputs": [],
   "source": [
    "final =  pd.concat([O_R_df,Comb_R_T_df])\n",
    "final = final.reset_index(drop=True)\n",
    "final.to_csv('train.csv')"
   ]
  }
 ],
 "metadata": {
  "kernelspec": {
   "display_name": "Python 3.7.9 64-bit",
   "language": "python",
   "name": "python3"
  },
  "language_info": {
   "name": "python",
   "version": "3.7.9"
  },
  "orig_nbformat": 4,
  "vscode": {
   "interpreter": {
    "hash": "252189e587d1e2aeba4a06e91fa71896c7a7f6e22e918b9407c7cde4ef2d5985"
   }
  }
 },
 "nbformat": 4,
 "nbformat_minor": 2
}
