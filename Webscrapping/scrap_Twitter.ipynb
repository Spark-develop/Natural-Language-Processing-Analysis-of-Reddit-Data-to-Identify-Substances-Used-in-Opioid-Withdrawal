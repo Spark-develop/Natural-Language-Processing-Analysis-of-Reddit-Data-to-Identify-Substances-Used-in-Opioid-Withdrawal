{
 "cells": [
  {
   "cell_type": "code",
   "execution_count": null,
   "metadata": {},
   "outputs": [],
   "source": [
    "'''\n",
    "Citations :\n",
    "[1] “Beautiful Soup documentation,” Beautiful Soup 4.4.0 documentation. [Online]. Available: https://beautiful-soup-4.readthedocs.io/en/latest/.\n",
    "[2] \"Selenium.\" [Online]. Available: https://www.selenium.dev/. \n",
    "'''"
   ]
  },
  {
   "cell_type": "code",
   "execution_count": null,
   "metadata": {},
   "outputs": [],
   "source": [
    "import time\n",
    "from html.parser import HTMLParser\n",
    "from selenium import webdriver\n",
    "from selenium.webdriver.common.keys import Keys\n",
    "import pandas as pd\n",
    "from bs4 import BeautifulSoup\n",
    "from re import sub\n",
    "from sys import stderr\n",
    "from traceback import print_exc\n",
    "import re\n",
    "import numpy as np"
   ]
  },
  {
   "cell_type": "code",
   "execution_count": null,
   "metadata": {},
   "outputs": [],
   "source": [
    "opi_df =  pd.read_csv('final_opioid_keywords.csv')"
   ]
  },
  {
   "cell_type": "code",
   "execution_count": null,
   "metadata": {},
   "outputs": [],
   "source": [
    "twit= []\n",
    "for opis in opi_df['Generic_Name']:\n",
    "    browser = webdriver.Chrome('driver/chromedriver')\n",
    "    browser.get(\"https://twitter.com/search?q=\"+opis+\"%20side%20effects&src=recent_search_click\")\n",
    "    time.sleep(1)\n",
    "\n",
    "    # elem = browser.find_element_by_tag_name(\"body\")\n",
    "\n",
    "    no_of_pagedowns = 0\n",
    "    last_height = browser.execute_script(\"return document.body.scrollHeight\")\n",
    "    while True:\n",
    "        no_of_pagedowns+=1\n",
    "        print(no_of_pagedowns)\n",
    "        browser.execute_script(\"window.scrollTo(0, document.body.scrollHeight)\")\n",
    "        time.sleep(4)\n",
    "        soup = BeautifulSoup(browser.page_source)\n",
    "        twit.append([opis,soup])\n",
    "        new_height = browser.execute_script(\"return document.body.scrollHeight\")\n",
    "        # break condition\n",
    "        if new_height == last_height:\n",
    "            break\n",
    "        last_height = new_height\n",
    "\n",
    "    browser.quit()"
   ]
  },
  {
   "cell_type": "code",
   "execution_count": null,
   "metadata": {},
   "outputs": [],
   "source": [
    "cmntsOpi = pd.DataFrame(twit,columns=['Components','Comments'])\n",
    "len(cmntsOpi['Comments'])"
   ]
  },
  {
   "cell_type": "code",
   "execution_count": null,
   "metadata": {},
   "outputs": [],
   "source": [
    "twisS = []\n",
    "for twis in range(len(cmntsOpi)):    \n",
    "    htmlParse = BeautifulSoup(cmntsOpi.Comments[twis], 'html.parser')\n",
    "    for hm in htmlParse.find_all('div',class_='css-1dbjc4n r-1igl3o0 r-qklmqi r-1adg3ll r-1ny4l3l'):\n",
    "        twisS.append([hm.find('div',class_=\"css-1dbjc4n\").text,hm.find('time').text,cmntsOpi.Components[twis]])"
   ]
  },
  {
   "cell_type": "code",
   "execution_count": null,
   "metadata": {},
   "outputs": [],
   "source": [
    "newCmntsOpi = pd.DataFrame(twisS,columns=['Comments','DateTime','Components'])\n",
    "newCmntsOpi['Comments'] = [re.sub(r\"\\[.*\\n?\",\"\",str(x),flags=re.MULTILINE) for x in newCmntsOpi['Comments']]\n",
    "newCmntsOpi['Comments'] = newCmntsOpi['Comments'].str.replace(r'<[^<>]*>', '', regex=True)\n",
    "newCmntsOpi['Comments'] = newCmntsOpi['Comments'].str.split('\\n\\n')\n",
    "newCmntsOpi = newCmntsOpi.explode('Comments')\n",
    "newCmntsOpi['Comments'] = newCmntsOpi['Comments'].replace({r'\\s+$': '', r'^\\s+': ''}, regex=True).replace(r'\\n',  ' ', regex=True)\n",
    "newCmntsOpi['Comments'] = newCmntsOpi['Comments'].replace(r'^\\s*$', np.nan, regex=True)\n",
    "newCmntsOpi['Comments'] = newCmntsOpi['Comments'].str.rstrip()\n",
    "newCmntsOpi['Comments'] = newCmntsOpi['Comments'].str.lstrip()\n",
    "newCmntsOpi = newCmntsOpi.dropna()\n",
    "newCmntsOpi = newCmntsOpi.reset_index(drop=True)\n",
    "len(newCmntsOpi)"
   ]
  },
  {
   "cell_type": "code",
   "execution_count": null,
   "metadata": {},
   "outputs": [],
   "source": [
    "newCmntsOpi.to_csv('webdata/twitter_effects.csv')\n",
    "newCmntsOpi"
   ]
  }
 ],
 "metadata": {
  "kernelspec": {
   "display_name": "Python 3.7.9 64-bit",
   "language": "python",
   "name": "python3"
  },
  "language_info": {
   "codemirror_mode": {
    "name": "ipython",
    "version": 3
   },
   "file_extension": ".py",
   "mimetype": "text/x-python",
   "name": "python",
   "nbconvert_exporter": "python",
   "pygments_lexer": "ipython3",
   "version": "3.7.9"
  },
  "orig_nbformat": 4,
  "vscode": {
   "interpreter": {
    "hash": "252189e587d1e2aeba4a06e91fa71896c7a7f6e22e918b9407c7cde4ef2d5985"
   }
  }
 },
 "nbformat": 4,
 "nbformat_minor": 2
}
